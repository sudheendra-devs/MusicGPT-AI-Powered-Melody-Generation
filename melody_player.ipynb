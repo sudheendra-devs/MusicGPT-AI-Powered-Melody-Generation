!pip install pydub
!pip install simpleaudio

from pydub import AudioSegment
import numpy as np
import simpleaudio as sa

# Define note frequencies (A4 = 440 Hz)
NOTE_FREQUENCIES = {
    'C': 261.63,
    'c': 277.18,  # C#
    'D': 293.66,
    'd': 311.13,  # D#
    'E': 329.63,
    'F': 349.23,
    'f': 369.99,  # F#
    'G': 392.00,
    'g': 415.30,  # G#
    'A': 440.00,
    'a': 466.16,  # A#
    'B': 493.88,
    'R': 0     # Rest
}

# Generate a sine wave for a given frequency
def generate_sine_wave(frequency, duration_ms, sample_rate=44100, amplitude=0.5):
    t = np.linspace(0, duration_ms / 1000, int(sample_rate * duration_ms / 1000), False)
    wave = amplitude * np.sin(2 * np.pi * frequency * t)
    wave = (wave * 32767).astype(np.int16)
    audio_segment = AudioSegment(
        wave.tobytes(),
        frame_rate=sample_rate,
        sample_width=wave.dtype.itemsize,
        channels=1
    )
    return audio_segment

# Function to create a sequence of notes
def create_sequence(note_sequence, duration_ms=500):
    song = AudioSegment.silent(duration=0)
    for note in note_sequence:
        if note == 'R':  # Handle rest
            segment = AudioSegment.silent(duration=duration_ms)
        else:
            frequency = NOTE_FREQUENCIES[note]
            segment = generate_sine_wave(frequency, duration_ms)
        song += segment
    return song

# The given melody sequence
melody_sequence = " AAAAffffffffAAAAggGGGGGRRRRRAAAAAddddddddddEEEddRRRRRRccEfffgggggAAAAggggEEEEEEEEEERRRaagggBBgggAAAAGGGggggGGGggGGFFFFRRRBBBBBBAAAAEERRRRBBBBBBBCCCBCDDffFFFFCCAAcBRRRCCCaaaaaafFFFffffggfFFFFFFRRcccggBBaaaaccccccBBCCBBBBBBBBAfffaaRRRRcBBBBBBdddggggfggggFFFFdddaadFFFFFddaaffEEFFRRRRRRDDDDAAABBBBBBBBRRRAAAAGGGGGEEEERRRREEcccFFFFREEEDDDDDAAAAAGGGDRRRRRCCcdddRfFFFAAAAGGGRRRRDDDCCCBBBffffEEECCCdddRRRRRDDDDDDDCCCCCRRRaaggggFFggaaaRRRRRDDCCCGGGREEEEAAAccccRRRRRCCCCcccddddddRRRgggggaaAAAARRRRRREEEEEEgCccc"
melody_sequence = melody_sequence.replace(" ", "")
song = create_sequence(melody_sequence, duration_ms=250)  # 500ms per note

# Save the melody to a .wav file
song.export("melody.wav", format="wav")


from IPython.display import Audio

# Embed the .wav file in the notebook for playback
Audio("melody.wav", autoplay=True)
